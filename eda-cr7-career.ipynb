{
 "cells": [
  {
   "cell_type": "markdown",
   "id": "bc3a1eb2",
   "metadata": {
    "papermill": {
     "duration": 0.011614,
     "end_time": "2022-07-26T21:32:41.019454",
     "exception": false,
     "start_time": "2022-07-26T21:32:41.007840",
     "status": "completed"
    },
    "tags": []
   },
   "source": [
    "# CRISTIANO RONALDO'S CAREER \n",
    "\n",
    "In honor of the commander CR7, we'll take a look to his legendary career across the different teams in which he played in. "
   ]
  },
  {
   "cell_type": "markdown",
   "id": "ce05a898",
   "metadata": {
    "_kg_hide-input": true,
    "papermill": {
     "duration": 0.010276,
     "end_time": "2022-07-26T21:32:41.040230",
     "exception": false,
     "start_time": "2022-07-26T21:32:41.029954",
     "status": "completed"
    },
    "tags": []
   },
   "source": [
    "### Import the libraries to use"
   ]
  },
  {
   "cell_type": "code",
   "execution_count": 1,
   "id": "1bcce090",
   "metadata": {
    "execution": {
     "iopub.execute_input": "2022-07-26T21:32:41.062946Z",
     "iopub.status.busy": "2022-07-26T21:32:41.062313Z",
     "iopub.status.idle": "2022-07-26T21:32:42.291856Z",
     "shell.execute_reply": "2022-07-26T21:32:42.290961Z"
    },
    "papermill": {
     "duration": 1.244317,
     "end_time": "2022-07-26T21:32:42.294679",
     "exception": false,
     "start_time": "2022-07-26T21:32:41.050362",
     "status": "completed"
    },
    "pycharm": {
     "name": "#%%\n"
    },
    "tags": []
   },
   "outputs": [],
   "source": [
    "import pandas as pd\n",
    "import matplotlib.pyplot as plt\n",
    "import numpy as np\n",
    "import seaborn as sns\n",
    "from datetime import datetime\n"
   ]
  },
  {
   "cell_type": "markdown",
   "id": "440478db",
   "metadata": {
    "papermill": {
     "duration": 0.009579,
     "end_time": "2022-07-26T21:32:42.314431",
     "exception": false,
     "start_time": "2022-07-26T21:32:42.304852",
     "status": "completed"
    },
    "tags": []
   },
   "source": [
    "### Read the input data"
   ]
  },
  {
   "cell_type": "code",
   "execution_count": 2,
   "id": "a12da5e1",
   "metadata": {
    "execution": {
     "iopub.execute_input": "2022-07-26T21:32:42.336643Z",
     "iopub.status.busy": "2022-07-26T21:32:42.335969Z",
     "iopub.status.idle": "2022-07-26T21:32:42.383102Z",
     "shell.execute_reply": "2022-07-26T21:32:42.381968Z"
    },
    "papermill": {
     "duration": 0.06173,
     "end_time": "2022-07-26T21:32:42.385986",
     "exception": false,
     "start_time": "2022-07-26T21:32:42.324256",
     "status": "completed"
    },
    "pycharm": {
     "name": "#%%\n"
    },
    "tags": []
   },
   "outputs": [
    {
     "data": {
      "text/html": [
       "<div>\n",
       "<style scoped>\n",
       "    .dataframe tbody tr th:only-of-type {\n",
       "        vertical-align: middle;\n",
       "    }\n",
       "\n",
       "    .dataframe tbody tr th {\n",
       "        vertical-align: top;\n",
       "    }\n",
       "\n",
       "    .dataframe thead th {\n",
       "        text-align: right;\n",
       "    }\n",
       "</style>\n",
       "<table border=\"1\" class=\"dataframe\">\n",
       "  <thead>\n",
       "    <tr style=\"text-align: right;\">\n",
       "      <th></th>\n",
       "      <th>Season</th>\n",
       "      <th>Competition</th>\n",
       "      <th>Matchday</th>\n",
       "      <th>Date</th>\n",
       "      <th>Venue</th>\n",
       "      <th>Club</th>\n",
       "      <th>Opponent</th>\n",
       "      <th>Result</th>\n",
       "      <th>Playing_Position</th>\n",
       "      <th>Minute</th>\n",
       "      <th>At_score</th>\n",
       "      <th>Type</th>\n",
       "      <th>Goal_assist</th>\n",
       "    </tr>\n",
       "  </thead>\n",
       "  <tbody>\n",
       "    <tr>\n",
       "      <th>0</th>\n",
       "      <td>02/03</td>\n",
       "      <td>Liga Portugal</td>\n",
       "      <td>6</td>\n",
       "      <td>10/7/02</td>\n",
       "      <td>H</td>\n",
       "      <td>Sporting CP</td>\n",
       "      <td>Moreirense FC</td>\n",
       "      <td>3:0</td>\n",
       "      <td>LW</td>\n",
       "      <td>34</td>\n",
       "      <td>2:0</td>\n",
       "      <td>Solo run</td>\n",
       "      <td>NaN</td>\n",
       "    </tr>\n",
       "    <tr>\n",
       "      <th>1</th>\n",
       "      <td>02/03</td>\n",
       "      <td>Liga Portugal</td>\n",
       "      <td>6</td>\n",
       "      <td>10/7/02</td>\n",
       "      <td>H</td>\n",
       "      <td>Sporting CP</td>\n",
       "      <td>Moreirense FC</td>\n",
       "      <td>3:0</td>\n",
       "      <td>LW</td>\n",
       "      <td>90+5</td>\n",
       "      <td>3:0</td>\n",
       "      <td>Header</td>\n",
       "      <td>Rui Jorge</td>\n",
       "    </tr>\n",
       "    <tr>\n",
       "      <th>2</th>\n",
       "      <td>02/03</td>\n",
       "      <td>Liga Portugal</td>\n",
       "      <td>8</td>\n",
       "      <td>10/26/02</td>\n",
       "      <td>A</td>\n",
       "      <td>Sporting CP</td>\n",
       "      <td>Boavista FC</td>\n",
       "      <td>1:2</td>\n",
       "      <td>NaN</td>\n",
       "      <td>88</td>\n",
       "      <td>1:2</td>\n",
       "      <td>Right-footed shot</td>\n",
       "      <td>Carlos Martins</td>\n",
       "    </tr>\n",
       "    <tr>\n",
       "      <th>3</th>\n",
       "      <td>02/03</td>\n",
       "      <td>Taca de Portugal Placard</td>\n",
       "      <td>Fourth Round</td>\n",
       "      <td>11/24/02</td>\n",
       "      <td>H</td>\n",
       "      <td>Sporting CP</td>\n",
       "      <td>CD Estarreja</td>\n",
       "      <td>4:1</td>\n",
       "      <td>NaN</td>\n",
       "      <td>67</td>\n",
       "      <td>3:0</td>\n",
       "      <td>Left-footed shot</td>\n",
       "      <td>Cesar Prates</td>\n",
       "    </tr>\n",
       "    <tr>\n",
       "      <th>4</th>\n",
       "      <td>02/03</td>\n",
       "      <td>Taca de Portugal Placard</td>\n",
       "      <td>Fifth Round</td>\n",
       "      <td>12/18/02</td>\n",
       "      <td>H</td>\n",
       "      <td>Sporting CP</td>\n",
       "      <td>FC Oliveira do Hospital</td>\n",
       "      <td>8:1</td>\n",
       "      <td>NaN</td>\n",
       "      <td>13</td>\n",
       "      <td>3:0</td>\n",
       "      <td>NaN</td>\n",
       "      <td>NaN</td>\n",
       "    </tr>\n",
       "  </tbody>\n",
       "</table>\n",
       "</div>"
      ],
      "text/plain": [
       "  Season               Competition      Matchday      Date Venue         Club  \\\n",
       "0  02/03             Liga Portugal             6   10/7/02     H  Sporting CP   \n",
       "1  02/03             Liga Portugal             6   10/7/02     H  Sporting CP   \n",
       "2  02/03             Liga Portugal             8  10/26/02     A  Sporting CP   \n",
       "3  02/03  Taca de Portugal Placard  Fourth Round  11/24/02     H  Sporting CP   \n",
       "4  02/03  Taca de Portugal Placard   Fifth Round  12/18/02     H  Sporting CP   \n",
       "\n",
       "                  Opponent Result Playing_Position Minute At_score  \\\n",
       "0            Moreirense FC    3:0               LW     34      2:0   \n",
       "1            Moreirense FC    3:0               LW   90+5      3:0   \n",
       "2              Boavista FC    1:2              NaN     88      1:2   \n",
       "3             CD Estarreja    4:1              NaN     67      3:0   \n",
       "4  FC Oliveira do Hospital    8:1              NaN     13      3:0   \n",
       "\n",
       "                Type     Goal_assist  \n",
       "0           Solo run             NaN  \n",
       "1             Header       Rui Jorge  \n",
       "2  Right-footed shot  Carlos Martins  \n",
       "3   Left-footed shot    Cesar Prates  \n",
       "4                NaN             NaN  "
      ]
     },
     "execution_count": 2,
     "metadata": {},
     "output_type": "execute_result"
    }
   ],
   "source": [
    "df =pd.read_csv(\"/kaggle/input/cr7-cristiano-ronaldo-all-club-goals-stats/data.csv\")\n",
    "df.head()"
   ]
  },
  {
   "cell_type": "markdown",
   "id": "18f8631c",
   "metadata": {
    "papermill": {
     "duration": 0.010083,
     "end_time": "2022-07-26T21:32:42.407289",
     "exception": false,
     "start_time": "2022-07-26T21:32:42.397206",
     "status": "completed"
    },
    "tags": []
   },
   "source": [
    "#### 1st glimpse of the data\n",
    "\n",
    "We can see that each row in our DataFrame represents a goal, which can be described with the different columns in the data. Cleary we can see that there are null values in our data, so we'll have to clean this dataset.\n"
   ]
  },
  {
   "cell_type": "code",
   "execution_count": 3,
   "id": "d383878f",
   "metadata": {
    "execution": {
     "iopub.execute_input": "2022-07-26T21:32:42.430729Z",
     "iopub.status.busy": "2022-07-26T21:32:42.429389Z",
     "iopub.status.idle": "2022-07-26T21:32:42.459525Z",
     "shell.execute_reply": "2022-07-26T21:32:42.457808Z"
    },
    "papermill": {
     "duration": 0.045537,
     "end_time": "2022-07-26T21:32:42.463169",
     "exception": false,
     "start_time": "2022-07-26T21:32:42.417632",
     "status": "completed"
    },
    "pycharm": {
     "name": "#%%\n"
    },
    "tags": []
   },
   "outputs": [
    {
     "name": "stdout",
     "output_type": "stream",
     "text": [
      "<class 'pandas.core.frame.DataFrame'>\n",
      "RangeIndex: 698 entries, 0 to 697\n",
      "Data columns (total 13 columns):\n",
      " #   Column            Non-Null Count  Dtype \n",
      "---  ------            --------------  ----- \n",
      " 0   Season            698 non-null    object\n",
      " 1   Competition       698 non-null    object\n",
      " 2   Matchday          698 non-null    object\n",
      " 3   Date              698 non-null    object\n",
      " 4   Venue             698 non-null    object\n",
      " 5   Club              698 non-null    object\n",
      " 6   Opponent          698 non-null    object\n",
      " 7   Result            698 non-null    object\n",
      " 8   Playing_Position  641 non-null    object\n",
      " 9   Minute            698 non-null    object\n",
      " 10  At_score          698 non-null    object\n",
      " 11  Type              683 non-null    object\n",
      " 12  Goal_assist       458 non-null    object\n",
      "dtypes: object(13)\n",
      "memory usage: 71.0+ KB\n"
     ]
    }
   ],
   "source": [
    "df.info()"
   ]
  },
  {
   "cell_type": "code",
   "execution_count": 4,
   "id": "b92e3109",
   "metadata": {
    "execution": {
     "iopub.execute_input": "2022-07-26T21:32:42.488018Z",
     "iopub.status.busy": "2022-07-26T21:32:42.487088Z",
     "iopub.status.idle": "2022-07-26T21:32:42.497387Z",
     "shell.execute_reply": "2022-07-26T21:32:42.496320Z"
    },
    "papermill": {
     "duration": 0.024586,
     "end_time": "2022-07-26T21:32:42.499639",
     "exception": false,
     "start_time": "2022-07-26T21:32:42.475053",
     "status": "completed"
    },
    "pycharm": {
     "name": "#%%\n"
    },
    "tags": []
   },
   "outputs": [
    {
     "data": {
      "text/plain": [
       "Right-footed shot         251\n",
       "Penalty                   128\n",
       "Header                    112\n",
       "Left-footed shot          110\n",
       "Direct free kick           48\n",
       "Tap-in                     14\n",
       "Long distance kick          9\n",
       "Counter attack goal         4\n",
       "Penalty rebound             3\n",
       "Solo run                    2\n",
       "Deflected shot on goal      2\n",
       "Name: Type, dtype: int64"
      ]
     },
     "execution_count": 4,
     "metadata": {},
     "output_type": "execute_result"
    }
   ],
   "source": [
    "df.Type.value_counts()"
   ]
  },
  {
   "cell_type": "code",
   "execution_count": 5,
   "id": "7838e755",
   "metadata": {
    "execution": {
     "iopub.execute_input": "2022-07-26T21:32:42.523361Z",
     "iopub.status.busy": "2022-07-26T21:32:42.522400Z",
     "iopub.status.idle": "2022-07-26T21:32:42.528032Z",
     "shell.execute_reply": "2022-07-26T21:32:42.526922Z"
    },
    "papermill": {
     "duration": 0.020299,
     "end_time": "2022-07-26T21:32:42.530341",
     "exception": false,
     "start_time": "2022-07-26T21:32:42.510042",
     "status": "completed"
    },
    "tags": []
   },
   "outputs": [],
   "source": [
    "assists = df.Goal_assist"
   ]
  },
  {
   "cell_type": "code",
   "execution_count": 6,
   "id": "17b82790",
   "metadata": {
    "execution": {
     "iopub.execute_input": "2022-07-26T21:32:42.553991Z",
     "iopub.status.busy": "2022-07-26T21:32:42.553022Z",
     "iopub.status.idle": "2022-07-26T21:32:42.558419Z",
     "shell.execute_reply": "2022-07-26T21:32:42.557332Z"
    },
    "papermill": {
     "duration": 0.019969,
     "end_time": "2022-07-26T21:32:42.560696",
     "exception": false,
     "start_time": "2022-07-26T21:32:42.540727",
     "status": "completed"
    },
    "pycharm": {
     "name": "#%%\n"
    },
    "tags": []
   },
   "outputs": [],
   "source": [
    "na_df = df"
   ]
  },
  {
   "cell_type": "code",
   "execution_count": 7,
   "id": "bbf2d419",
   "metadata": {
    "execution": {
     "iopub.execute_input": "2022-07-26T21:32:42.586044Z",
     "iopub.status.busy": "2022-07-26T21:32:42.585119Z",
     "iopub.status.idle": "2022-07-26T21:32:42.591985Z",
     "shell.execute_reply": "2022-07-26T21:32:42.590887Z"
    },
    "papermill": {
     "duration": 0.022701,
     "end_time": "2022-07-26T21:32:42.595716",
     "exception": false,
     "start_time": "2022-07-26T21:32:42.573015",
     "status": "completed"
    },
    "pycharm": {
     "name": "#%%\n"
    },
    "tags": []
   },
   "outputs": [],
   "source": [
    "df = df.drop('Goal_assist', axis = 'columns')"
   ]
  },
  {
   "cell_type": "code",
   "execution_count": 8,
   "id": "e92a8a67",
   "metadata": {
    "execution": {
     "iopub.execute_input": "2022-07-26T21:32:42.623403Z",
     "iopub.status.busy": "2022-07-26T21:32:42.623054Z",
     "iopub.status.idle": "2022-07-26T21:32:42.630970Z",
     "shell.execute_reply": "2022-07-26T21:32:42.630135Z"
    },
    "papermill": {
     "duration": 0.021987,
     "end_time": "2022-07-26T21:32:42.633253",
     "exception": false,
     "start_time": "2022-07-26T21:32:42.611266",
     "status": "completed"
    },
    "pycharm": {
     "name": "#%%\n"
    },
    "tags": []
   },
   "outputs": [],
   "source": [
    "df = df.dropna()"
   ]
  },
  {
   "cell_type": "code",
   "execution_count": 9,
   "id": "f6228f14",
   "metadata": {
    "execution": {
     "iopub.execute_input": "2022-07-26T21:32:42.655940Z",
     "iopub.status.busy": "2022-07-26T21:32:42.655522Z",
     "iopub.status.idle": "2022-07-26T21:32:42.662511Z",
     "shell.execute_reply": "2022-07-26T21:32:42.661429Z"
    },
    "papermill": {
     "duration": 0.021155,
     "end_time": "2022-07-26T21:32:42.664812",
     "exception": false,
     "start_time": "2022-07-26T21:32:42.643657",
     "status": "completed"
    },
    "pycharm": {
     "name": "#%%\n"
    },
    "tags": []
   },
   "outputs": [
    {
     "data": {
      "text/plain": [
       "(635, 12)"
      ]
     },
     "execution_count": 9,
     "metadata": {},
     "output_type": "execute_result"
    }
   ],
   "source": [
    "df.shape"
   ]
  },
  {
   "cell_type": "code",
   "execution_count": 10,
   "id": "8bf7f5bd",
   "metadata": {
    "execution": {
     "iopub.execute_input": "2022-07-26T21:32:42.688230Z",
     "iopub.status.busy": "2022-07-26T21:32:42.687451Z",
     "iopub.status.idle": "2022-07-26T21:32:42.704599Z",
     "shell.execute_reply": "2022-07-26T21:32:42.703505Z"
    },
    "papermill": {
     "duration": 0.031498,
     "end_time": "2022-07-26T21:32:42.706937",
     "exception": false,
     "start_time": "2022-07-26T21:32:42.675439",
     "status": "completed"
    },
    "pycharm": {
     "name": "#%%\n"
    },
    "tags": []
   },
   "outputs": [
    {
     "data": {
      "text/html": [
       "<div>\n",
       "<style scoped>\n",
       "    .dataframe tbody tr th:only-of-type {\n",
       "        vertical-align: middle;\n",
       "    }\n",
       "\n",
       "    .dataframe tbody tr th {\n",
       "        vertical-align: top;\n",
       "    }\n",
       "\n",
       "    .dataframe thead th {\n",
       "        text-align: right;\n",
       "    }\n",
       "</style>\n",
       "<table border=\"1\" class=\"dataframe\">\n",
       "  <thead>\n",
       "    <tr style=\"text-align: right;\">\n",
       "      <th></th>\n",
       "      <th>Season</th>\n",
       "      <th>Competition</th>\n",
       "      <th>Matchday</th>\n",
       "      <th>Date</th>\n",
       "      <th>Venue</th>\n",
       "      <th>Club</th>\n",
       "      <th>Opponent</th>\n",
       "      <th>Result</th>\n",
       "      <th>Playing_Position</th>\n",
       "      <th>Minute</th>\n",
       "      <th>At_score</th>\n",
       "      <th>Type</th>\n",
       "    </tr>\n",
       "  </thead>\n",
       "  <tbody>\n",
       "    <tr>\n",
       "      <th>0</th>\n",
       "      <td>02/03</td>\n",
       "      <td>Liga Portugal</td>\n",
       "      <td>6</td>\n",
       "      <td>10/7/02</td>\n",
       "      <td>H</td>\n",
       "      <td>Sporting CP</td>\n",
       "      <td>Moreirense FC</td>\n",
       "      <td>3:0</td>\n",
       "      <td>LW</td>\n",
       "      <td>34</td>\n",
       "      <td>2:0</td>\n",
       "      <td>Solo run</td>\n",
       "    </tr>\n",
       "    <tr>\n",
       "      <th>1</th>\n",
       "      <td>02/03</td>\n",
       "      <td>Liga Portugal</td>\n",
       "      <td>6</td>\n",
       "      <td>10/7/02</td>\n",
       "      <td>H</td>\n",
       "      <td>Sporting CP</td>\n",
       "      <td>Moreirense FC</td>\n",
       "      <td>3:0</td>\n",
       "      <td>LW</td>\n",
       "      <td>90+5</td>\n",
       "      <td>3:0</td>\n",
       "      <td>Header</td>\n",
       "    </tr>\n",
       "    <tr>\n",
       "      <th>5</th>\n",
       "      <td>03/04</td>\n",
       "      <td>Premier League</td>\n",
       "      <td>11</td>\n",
       "      <td>11/1/03</td>\n",
       "      <td>H</td>\n",
       "      <td>Manchester United</td>\n",
       "      <td>Portsmouth FC</td>\n",
       "      <td>3:0</td>\n",
       "      <td>RW</td>\n",
       "      <td>80</td>\n",
       "      <td>2:0</td>\n",
       "      <td>Direct free kick</td>\n",
       "    </tr>\n",
       "    <tr>\n",
       "      <th>6</th>\n",
       "      <td>03/04</td>\n",
       "      <td>FA Cup</td>\n",
       "      <td>Fifth Round</td>\n",
       "      <td>2/14/04</td>\n",
       "      <td>H</td>\n",
       "      <td>Manchester United</td>\n",
       "      <td>Manchester City</td>\n",
       "      <td>4:2</td>\n",
       "      <td>RW</td>\n",
       "      <td>74</td>\n",
       "      <td>3:0</td>\n",
       "      <td>Right-footed shot</td>\n",
       "    </tr>\n",
       "    <tr>\n",
       "      <th>10</th>\n",
       "      <td>03/04</td>\n",
       "      <td>FA Cup</td>\n",
       "      <td>Final</td>\n",
       "      <td>5/22/04</td>\n",
       "      <td>H</td>\n",
       "      <td>Manchester United</td>\n",
       "      <td>Millwall FC</td>\n",
       "      <td>3:0</td>\n",
       "      <td>RW</td>\n",
       "      <td>44</td>\n",
       "      <td>1:0</td>\n",
       "      <td>Header</td>\n",
       "    </tr>\n",
       "  </tbody>\n",
       "</table>\n",
       "</div>"
      ],
      "text/plain": [
       "   Season     Competition     Matchday     Date Venue               Club  \\\n",
       "0   02/03   Liga Portugal            6  10/7/02     H        Sporting CP   \n",
       "1   02/03   Liga Portugal            6  10/7/02     H        Sporting CP   \n",
       "5   03/04  Premier League           11  11/1/03     H  Manchester United   \n",
       "6   03/04          FA Cup  Fifth Round  2/14/04     H  Manchester United   \n",
       "10  03/04          FA Cup        Final  5/22/04     H  Manchester United   \n",
       "\n",
       "           Opponent Result Playing_Position Minute At_score               Type  \n",
       "0     Moreirense FC    3:0               LW     34      2:0           Solo run  \n",
       "1     Moreirense FC    3:0               LW   90+5      3:0             Header  \n",
       "5     Portsmouth FC    3:0               RW     80      2:0   Direct free kick  \n",
       "6   Manchester City    4:2               RW     74      3:0  Right-footed shot  \n",
       "10      Millwall FC    3:0               RW     44      1:0             Header  "
      ]
     },
     "execution_count": 10,
     "metadata": {},
     "output_type": "execute_result"
    }
   ],
   "source": [
    "df.head()"
   ]
  },
  {
   "cell_type": "code",
   "execution_count": 11,
   "id": "dc626100",
   "metadata": {
    "execution": {
     "iopub.execute_input": "2022-07-26T21:32:42.731258Z",
     "iopub.status.busy": "2022-07-26T21:32:42.729780Z",
     "iopub.status.idle": "2022-07-26T21:32:42.749633Z",
     "shell.execute_reply": "2022-07-26T21:32:42.748824Z"
    },
    "papermill": {
     "duration": 0.034526,
     "end_time": "2022-07-26T21:32:42.752282",
     "exception": false,
     "start_time": "2022-07-26T21:32:42.717756",
     "status": "completed"
    },
    "pycharm": {
     "name": "#%%\n"
    },
    "tags": []
   },
   "outputs": [],
   "source": [
    "df.Date = [datetime.strptime(date,\"%m/%d/%y\") for date in df.Date]"
   ]
  },
  {
   "cell_type": "code",
   "execution_count": 12,
   "id": "0630b804",
   "metadata": {
    "execution": {
     "iopub.execute_input": "2022-07-26T21:32:42.776841Z",
     "iopub.status.busy": "2022-07-26T21:32:42.776241Z",
     "iopub.status.idle": "2022-07-26T21:32:42.792316Z",
     "shell.execute_reply": "2022-07-26T21:32:42.791210Z"
    },
    "papermill": {
     "duration": 0.031377,
     "end_time": "2022-07-26T21:32:42.794731",
     "exception": false,
     "start_time": "2022-07-26T21:32:42.763354",
     "status": "completed"
    },
    "pycharm": {
     "name": "#%%\n"
    },
    "tags": []
   },
   "outputs": [],
   "source": [
    "na_df.Date = [datetime.strptime(date,\"%m/%d/%y\") for date in na_df.Date]"
   ]
  },
  {
   "cell_type": "code",
   "execution_count": 13,
   "id": "b9e262da",
   "metadata": {
    "execution": {
     "iopub.execute_input": "2022-07-26T21:32:42.818434Z",
     "iopub.status.busy": "2022-07-26T21:32:42.817829Z",
     "iopub.status.idle": "2022-07-26T21:32:42.827509Z",
     "shell.execute_reply": "2022-07-26T21:32:42.826479Z"
    },
    "papermill": {
     "duration": 0.024184,
     "end_time": "2022-07-26T21:32:42.829807",
     "exception": false,
     "start_time": "2022-07-26T21:32:42.805623",
     "status": "completed"
    },
    "pycharm": {
     "name": "#%%\n"
    },
    "tags": []
   },
   "outputs": [
    {
     "data": {
      "text/plain": [
       "0     2002-10-07\n",
       "1     2002-10-07\n",
       "5     2003-11-01\n",
       "6     2004-02-14\n",
       "10    2004-05-22\n",
       "         ...    \n",
       "693   2022-04-16\n",
       "694   2022-04-16\n",
       "695   2022-04-23\n",
       "696   2022-04-28\n",
       "697   2022-05-02\n",
       "Name: Date, Length: 635, dtype: datetime64[ns]"
      ]
     },
     "execution_count": 13,
     "metadata": {},
     "output_type": "execute_result"
    }
   ],
   "source": [
    "df.Date"
   ]
  },
  {
   "cell_type": "code",
   "execution_count": 14,
   "id": "10ffb959",
   "metadata": {
    "execution": {
     "iopub.execute_input": "2022-07-26T21:32:42.853818Z",
     "iopub.status.busy": "2022-07-26T21:32:42.853253Z",
     "iopub.status.idle": "2022-07-26T21:32:42.860592Z",
     "shell.execute_reply": "2022-07-26T21:32:42.859820Z"
    },
    "papermill": {
     "duration": 0.021744,
     "end_time": "2022-07-26T21:32:42.862741",
     "exception": false,
     "start_time": "2022-07-26T21:32:42.840997",
     "status": "completed"
    },
    "pycharm": {
     "name": "#%%\n"
    },
    "tags": []
   },
   "outputs": [
    {
     "data": {
      "text/plain": [
       "LaLiga                   297\n",
       "UEFA Champions League    140\n",
       "Serie A                   81\n",
       "Premier League            67\n",
       "Copa del Rey              21\n",
       "FA Cup                     7\n",
       "FIFA Club World Cup        7\n",
       "Supercopa                  4\n",
       "Italy Cup                  4\n",
       "Liga Portugal              2\n",
       "UEFA Super Cup             2\n",
       "Supercoppa Italiana        2\n",
       "EFL Cup                    1\n",
       "Name: Competition, dtype: int64"
      ]
     },
     "execution_count": 14,
     "metadata": {},
     "output_type": "execute_result"
    }
   ],
   "source": [
    "df.Competition.value_counts()\n"
   ]
  },
  {
   "cell_type": "markdown",
   "id": "2ddf1dff",
   "metadata": {
    "papermill": {
     "duration": 0.010718,
     "end_time": "2022-07-26T21:32:42.884721",
     "exception": false,
     "start_time": "2022-07-26T21:32:42.874003",
     "status": "completed"
    },
    "tags": []
   },
   "source": [
    "#### CR7 GOALS ACCROSS THE YEARS"
   ]
  },
  {
   "cell_type": "code",
   "execution_count": 15,
   "id": "12ca833e",
   "metadata": {
    "_kg_hide-input": false,
    "execution": {
     "iopub.execute_input": "2022-07-26T21:32:42.909811Z",
     "iopub.status.busy": "2022-07-26T21:32:42.909201Z",
     "iopub.status.idle": "2022-07-26T21:32:48.122300Z",
     "shell.execute_reply": "2022-07-26T21:32:48.121086Z"
    },
    "papermill": {
     "duration": 5.228508,
     "end_time": "2022-07-26T21:32:48.125082",
     "exception": false,
     "start_time": "2022-07-26T21:32:42.896574",
     "status": "completed"
    },
    "pycharm": {
     "name": "#%%\n"
    },
    "tags": []
   },
   "outputs": [
    {
     "data": {
      "text/plain": [
       "<AxesSubplot:xlabel='Year', ylabel='Goals'>"
      ]
     },
     "execution_count": 15,
     "metadata": {},
     "output_type": "execute_result"
    },
    {
     "data": {
      "image/png": "[encoded data removed]",
      "text/plain": [
       "<Figure size 864x720 with 1 Axes>"
      ]
     },
     "metadata": {
      "needs_background": "light"
     },
     "output_type": "display_data"
    }
   ],
   "source": [
    "plt.figure(figsize=(12,10))\n",
    "plt.suptitle('Cristiano Goals accross the years')\n",
    "plt.xlabel('Year')\n",
    "plt.ylabel('Goals')\n",
    "sns.lineplot(data = na_df,x = 'Date', y = list(range(1,699)))\n"
   ]
  },
  {
   "cell_type": "markdown",
   "id": "8abb5ea6",
   "metadata": {
    "papermill": {
     "duration": 0.011361,
     "end_time": "2022-07-26T21:32:48.148606",
     "exception": false,
     "start_time": "2022-07-26T21:32:48.137245",
     "status": "completed"
    },
    "tags": []
   },
   "source": [
    "#### CR7'S FAVORITE COMPETITION"
   ]
  },
  {
   "cell_type": "markdown",
   "id": "9efbb12a",
   "metadata": {
    "papermill": {
     "duration": 0.0114,
     "end_time": "2022-07-26T21:32:48.171761",
     "exception": false,
     "start_time": "2022-07-26T21:32:48.160361",
     "status": "completed"
    },
    "tags": []
   },
   "source": [
    "As you can expect, CR7's goals focus on the UEFA CHAMPIONS LEAGUE and LA LIGA BBVA. Guess that's why they call him Mr. Champions."
   ]
  },
  {
   "cell_type": "code",
   "execution_count": 16,
   "id": "4f515a86",
   "metadata": {
    "execution": {
     "iopub.execute_input": "2022-07-26T21:32:48.197872Z",
     "iopub.status.busy": "2022-07-26T21:32:48.197142Z",
     "iopub.status.idle": "2022-07-26T21:32:48.450772Z",
     "shell.execute_reply": "2022-07-26T21:32:48.449652Z"
    },
    "papermill": {
     "duration": 0.269663,
     "end_time": "2022-07-26T21:32:48.453338",
     "exception": false,
     "start_time": "2022-07-26T21:32:48.183675",
     "status": "completed"
    },
    "pycharm": {
     "name": "#%%\n"
    },
    "tags": []
   },
   "outputs": [
    {
     "data": {
      "image/png": "[encoded data removed]",
      "text/plain": [
       "<Figure size 432x288 with 1 Axes>"
      ]
     },
     "metadata": {
      "needs_background": "light"
     },
     "output_type": "display_data"
    }
   ],
   "source": [
    "\n",
    "sns.countplot(x = df.Competition, order=df.Competition.value_counts().sort_values(ascending=False).index)\n",
    "sns.set(rc={'figure.figsize':(10,7)})\n",
    "plt.title('Goals across Competitions',fontsize=15)\n",
    "plt.xlabel('Competition')\n",
    "plt.ylabel('Goals')\n",
    "plt.xticks(rotation=90)\n",
    "sns.set_style('whitegrid')\n"
   ]
  },
  {
   "cell_type": "markdown",
   "id": "be98f565",
   "metadata": {
    "papermill": {
     "duration": 0.011923,
     "end_time": "2022-07-26T21:32:48.477513",
     "exception": false,
     "start_time": "2022-07-26T21:32:48.465590",
     "status": "completed"
    },
    "tags": []
   },
   "source": [
    "#### CR7 has scored goals that most football players ever dream of scoring. In the biggest of matches, when you need Cristiano, he is always there. Let's see what type of goals are his favorite kind."
   ]
  },
  {
   "cell_type": "code",
   "execution_count": 17,
   "id": "0d34e62c",
   "metadata": {
    "execution": {
     "iopub.execute_input": "2022-07-26T21:32:48.503530Z",
     "iopub.status.busy": "2022-07-26T21:32:48.503129Z",
     "iopub.status.idle": "2022-07-26T21:32:48.785779Z",
     "shell.execute_reply": "2022-07-26T21:32:48.784803Z"
    },
    "papermill": {
     "duration": 0.298338,
     "end_time": "2022-07-26T21:32:48.788060",
     "exception": false,
     "start_time": "2022-07-26T21:32:48.489722",
     "status": "completed"
    },
    "pycharm": {
     "name": "#%%\n"
    },
    "tags": []
   },
   "outputs": [
    {
     "data": {
      "image/png": "[encoded data removed]",
      "text/plain": [
       "<Figure size 720x504 with 1 Axes>"
      ]
     },
     "metadata": {},
     "output_type": "display_data"
    }
   ],
   "source": [
    "sns.countplot(x = df.Type, order=df.Type.value_counts().sort_values(ascending=False).index)\n",
    "sns.set(rc={'figure.figsize':(10,7)})\n",
    "plt.title('Type of Goals Scored',fontsize=15)\n",
    "plt.xlabel('Type of Goal')\n",
    "plt.ylabel('Goals')\n",
    "plt.xticks(rotation=90)\n",
    "sns.set_style('whitegrid')\n"
   ]
  },
  {
   "cell_type": "code",
   "execution_count": 18,
   "id": "ef487768",
   "metadata": {
    "execution": {
     "iopub.execute_input": "2022-07-26T21:32:48.816130Z",
     "iopub.status.busy": "2022-07-26T21:32:48.815153Z",
     "iopub.status.idle": "2022-07-26T21:32:49.017814Z",
     "shell.execute_reply": "2022-07-26T21:32:49.016964Z"
    },
    "papermill": {
     "duration": 0.219365,
     "end_time": "2022-07-26T21:32:49.020142",
     "exception": false,
     "start_time": "2022-07-26T21:32:48.800777",
     "status": "completed"
    },
    "pycharm": {
     "name": "#%%\n"
    },
    "tags": []
   },
   "outputs": [
    {
     "data": {
      "image/png": "[encoded data removed]",
      "text/plain": [
       "<Figure size 720x504 with 1 Axes>"
      ]
     },
     "metadata": {},
     "output_type": "display_data"
    }
   ],
   "source": [
    "sns.countplot(x = df.Club,order=df.Club.value_counts().sort_values(ascending=False).index)\n",
    "sns.set(rc={'figure.figsize':(10,7)})\n",
    "plt.title('Goals for each Club',fontsize=15)\n",
    "plt.xlabel('Club')\n",
    "plt.ylabel('Goals')\n",
    "plt.xticks(rotation=90)\n",
    "sns.set_style('whitegrid')"
   ]
  },
  {
   "cell_type": "code",
   "execution_count": 19,
   "id": "77293969",
   "metadata": {
    "execution": {
     "iopub.execute_input": "2022-07-26T21:32:49.049311Z",
     "iopub.status.busy": "2022-07-26T21:32:49.048589Z",
     "iopub.status.idle": "2022-07-26T21:32:49.054770Z",
     "shell.execute_reply": "2022-07-26T21:32:49.053978Z"
    },
    "papermill": {
     "duration": 0.023209,
     "end_time": "2022-07-26T21:32:49.057056",
     "exception": false,
     "start_time": "2022-07-26T21:32:49.033847",
     "status": "completed"
    },
    "pycharm": {
     "name": "#%%\n"
    },
    "tags": []
   },
   "outputs": [],
   "source": [
    "venue_df = np.where(na_df.Venue.str.contains('H'),'Home','Away')"
   ]
  },
  {
   "cell_type": "code",
   "execution_count": 20,
   "id": "297a115d",
   "metadata": {
    "execution": {
     "iopub.execute_input": "2022-07-26T21:32:49.085967Z",
     "iopub.status.busy": "2022-07-26T21:32:49.084677Z",
     "iopub.status.idle": "2022-07-26T21:32:49.093681Z",
     "shell.execute_reply": "2022-07-26T21:32:49.092421Z"
    },
    "papermill": {
     "duration": 0.025524,
     "end_time": "2022-07-26T21:32:49.096031",
     "exception": false,
     "start_time": "2022-07-26T21:32:49.070507",
     "status": "completed"
    },
    "pycharm": {
     "name": "#%%\n"
    },
    "tags": []
   },
   "outputs": [],
   "source": [
    "goals_by_club = na_df.groupby(['Club', venue_df])"
   ]
  },
  {
   "cell_type": "code",
   "execution_count": 21,
   "id": "a48ab5c5",
   "metadata": {
    "execution": {
     "iopub.execute_input": "2022-07-26T21:32:49.124508Z",
     "iopub.status.busy": "2022-07-26T21:32:49.123725Z",
     "iopub.status.idle": "2022-07-26T21:32:49.130844Z",
     "shell.execute_reply": "2022-07-26T21:32:49.129845Z"
    },
    "papermill": {
     "duration": 0.024099,
     "end_time": "2022-07-26T21:32:49.133201",
     "exception": false,
     "start_time": "2022-07-26T21:32:49.109102",
     "status": "completed"
    },
    "pycharm": {
     "name": "#%%\n"
    },
    "tags": []
   },
   "outputs": [
    {
     "data": {
      "text/plain": [
       "<pandas.core.groupby.generic.DataFrameGroupBy object at 0x7f0f1b4b3e50>"
      ]
     },
     "execution_count": 21,
     "metadata": {},
     "output_type": "execute_result"
    }
   ],
   "source": [
    "goals_by_club "
   ]
  },
  {
   "cell_type": "code",
   "execution_count": 22,
   "id": "45096171",
   "metadata": {
    "execution": {
     "iopub.execute_input": "2022-07-26T21:32:49.161783Z",
     "iopub.status.busy": "2022-07-26T21:32:49.161037Z",
     "iopub.status.idle": "2022-07-26T21:32:49.168711Z",
     "shell.execute_reply": "2022-07-26T21:32:49.167943Z"
    },
    "papermill": {
     "duration": 0.024588,
     "end_time": "2022-07-26T21:32:49.171008",
     "exception": false,
     "start_time": "2022-07-26T21:32:49.146420",
     "status": "completed"
    },
    "pycharm": {
     "name": "#%%\n"
    },
    "tags": []
   },
   "outputs": [],
   "source": [
    "agg_count = goals_by_club.size().unstack().fillna(0)"
   ]
  },
  {
   "cell_type": "code",
   "execution_count": 23,
   "id": "ca48cfd2",
   "metadata": {
    "execution": {
     "iopub.execute_input": "2022-07-26T21:32:49.199205Z",
     "iopub.status.busy": "2022-07-26T21:32:49.198441Z",
     "iopub.status.idle": "2022-07-26T21:32:49.208318Z",
     "shell.execute_reply": "2022-07-26T21:32:49.207342Z"
    },
    "papermill": {
     "duration": 0.026651,
     "end_time": "2022-07-26T21:32:49.210630",
     "exception": false,
     "start_time": "2022-07-26T21:32:49.183979",
     "status": "completed"
    },
    "pycharm": {
     "name": "#%%\n"
    },
    "tags": []
   },
   "outputs": [
    {
     "data": {
      "text/html": [
       "<div>\n",
       "<style scoped>\n",
       "    .dataframe tbody tr th:only-of-type {\n",
       "        vertical-align: middle;\n",
       "    }\n",
       "\n",
       "    .dataframe tbody tr th {\n",
       "        vertical-align: top;\n",
       "    }\n",
       "\n",
       "    .dataframe thead th {\n",
       "        text-align: right;\n",
       "    }\n",
       "</style>\n",
       "<table border=\"1\" class=\"dataframe\">\n",
       "  <thead>\n",
       "    <tr style=\"text-align: right;\">\n",
       "      <th></th>\n",
       "      <th>Away</th>\n",
       "      <th>Home</th>\n",
       "    </tr>\n",
       "    <tr>\n",
       "      <th>Club</th>\n",
       "      <th></th>\n",
       "      <th></th>\n",
       "    </tr>\n",
       "  </thead>\n",
       "  <tbody>\n",
       "    <tr>\n",
       "      <th>Juventus FC</th>\n",
       "      <td>44</td>\n",
       "      <td>57</td>\n",
       "    </tr>\n",
       "    <tr>\n",
       "      <th>Manchester United</th>\n",
       "      <td>51</td>\n",
       "      <td>91</td>\n",
       "    </tr>\n",
       "    <tr>\n",
       "      <th>Real Madrid</th>\n",
       "      <td>200</td>\n",
       "      <td>250</td>\n",
       "    </tr>\n",
       "    <tr>\n",
       "      <th>Sporting CP</th>\n",
       "      <td>1</td>\n",
       "      <td>4</td>\n",
       "    </tr>\n",
       "  </tbody>\n",
       "</table>\n",
       "</div>"
      ],
      "text/plain": [
       "                   Away  Home\n",
       "Club                         \n",
       "Juventus FC          44    57\n",
       "Manchester United    51    91\n",
       "Real Madrid         200   250\n",
       "Sporting CP           1     4"
      ]
     },
     "execution_count": 23,
     "metadata": {},
     "output_type": "execute_result"
    }
   ],
   "source": [
    "agg_count"
   ]
  },
  {
   "cell_type": "code",
   "execution_count": 24,
   "id": "e33ed7e4",
   "metadata": {
    "execution": {
     "iopub.execute_input": "2022-07-26T21:32:49.239478Z",
     "iopub.status.busy": "2022-07-26T21:32:49.238720Z",
     "iopub.status.idle": "2022-07-26T21:32:49.506542Z",
     "shell.execute_reply": "2022-07-26T21:32:49.505746Z"
    },
    "papermill": {
     "duration": 0.284668,
     "end_time": "2022-07-26T21:32:49.508602",
     "exception": false,
     "start_time": "2022-07-26T21:32:49.223934",
     "status": "completed"
    },
    "tags": []
   },
   "outputs": [
    {
     "data": {
      "text/plain": [
       "<AxesSubplot:ylabel='Club'>"
      ]
     },
     "execution_count": 24,
     "metadata": {},
     "output_type": "execute_result"
    },
    {
     "data": {
      "image/png": "[encoded data removed]",
      "text/plain": [
       "<Figure size 720x504 with 1 Axes>"
      ]
     },
     "metadata": {},
     "output_type": "display_data"
    }
   ],
   "source": [
    "agg_count.plot(kind='barh', stacked = True)"
   ]
  },
  {
   "cell_type": "code",
   "execution_count": 25,
   "id": "cf039959",
   "metadata": {
    "execution": {
     "iopub.execute_input": "2022-07-26T21:32:49.539458Z",
     "iopub.status.busy": "2022-07-26T21:32:49.538407Z",
     "iopub.status.idle": "2022-07-26T21:32:49.813453Z",
     "shell.execute_reply": "2022-07-26T21:32:49.812130Z"
    },
    "papermill": {
     "duration": 0.293104,
     "end_time": "2022-07-26T21:32:49.816260",
     "exception": false,
     "start_time": "2022-07-26T21:32:49.523156",
     "status": "completed"
    },
    "tags": []
   },
   "outputs": [
    {
     "data": {
      "text/plain": [
       "<AxesSubplot:ylabel='Club'>"
      ]
     },
     "execution_count": 25,
     "metadata": {},
     "output_type": "execute_result"
    },
    {
     "data": {
      "image/png": "[encoded data removed]",
      "text/plain": [
       "<Figure size 720x504 with 1 Axes>"
      ]
     },
     "metadata": {},
     "output_type": "display_data"
    }
   ],
   "source": [
    "# Tabla normalizada \n",
    "normed_subset = agg_count.div(agg_count.sum(1), axis = 0)\n",
    "normed_subset.plot(kind='barh', stacked = True)"
   ]
  },
  {
   "cell_type": "code",
   "execution_count": 26,
   "id": "fc42ae4d",
   "metadata": {
    "execution": {
     "iopub.execute_input": "2022-07-26T21:32:49.847598Z",
     "iopub.status.busy": "2022-07-26T21:32:49.847166Z",
     "iopub.status.idle": "2022-07-26T21:32:50.204850Z",
     "shell.execute_reply": "2022-07-26T21:32:50.203982Z"
    },
    "papermill": {
     "duration": 0.375794,
     "end_time": "2022-07-26T21:32:50.207117",
     "exception": false,
     "start_time": "2022-07-26T21:32:49.831323",
     "status": "completed"
    },
    "tags": []
   },
   "outputs": [
    {
     "data": {
      "image/png": "[encoded data removed]",
      "text/plain": [
       "<Figure size 720x504 with 1 Axes>"
      ]
     },
     "metadata": {},
     "output_type": "display_data"
    }
   ],
   "source": [
    "sns.countplot(x = df.Season,order=df.Season.value_counts().sort_values(ascending=False).index)\n",
    "sns.set(rc={'figure.figsize':(10,7)})\n",
    "plt.title('Best season by goals',fontsize=15)\n",
    "plt.xlabel('Season')\n",
    "plt.ylabel('Goals')\n",
    "plt.xticks(rotation=90)\n",
    "sns.set_style('whitegrid')"
   ]
  },
  {
   "cell_type": "code",
   "execution_count": 27,
   "id": "a97edc63",
   "metadata": {
    "execution": {
     "iopub.execute_input": "2022-07-26T21:32:50.239959Z",
     "iopub.status.busy": "2022-07-26T21:32:50.239311Z",
     "iopub.status.idle": "2022-07-26T21:32:50.569747Z",
     "shell.execute_reply": "2022-07-26T21:32:50.568923Z"
    },
    "papermill": {
     "duration": 0.349648,
     "end_time": "2022-07-26T21:32:50.572202",
     "exception": false,
     "start_time": "2022-07-26T21:32:50.222554",
     "status": "completed"
    },
    "tags": []
   },
   "outputs": [
    {
     "data": {
      "image/png": "[encoded data removed]",
      "text/plain": [
       "<Figure size 720x504 with 1 Axes>"
      ]
     },
     "metadata": {},
     "output_type": "display_data"
    }
   ],
   "source": [
    "sns.countplot(x = assists,order=assists.value_counts().sort_values(ascending=False).index[:15])\n",
    "sns.set(rc={'figure.figsize':(16,13)})\n",
    "plt.title('El Bicho´s best briend',fontsize=15)\n",
    "plt.xlabel('Teammates')\n",
    "plt.ylabel('# of Assists')\n",
    "plt.xticks(rotation=90)\n",
    "sns.set_style('whitegrid')"
   ]
  },
  {
   "cell_type": "code",
   "execution_count": null,
   "id": "f5e00149",
   "metadata": {
    "papermill": {
     "duration": 0.015266,
     "end_time": "2022-07-26T21:32:50.603492",
     "exception": false,
     "start_time": "2022-07-26T21:32:50.588226",
     "status": "completed"
    },
    "tags": []
   },
   "outputs": [],
   "source": []
  }
 ],
 "metadata": {
  "kernelspec": {
   "display_name": "Python 3",
   "language": "python",
   "name": "python3"
  },
  "language_info": {
   "codemirror_mode": {
    "name": "ipython",
    "version": 3
   },
   "file_extension": ".py",
   "mimetype": "text/x-python",
   "name": "python",
   "nbconvert_exporter": "python",
   "pygments_lexer": "ipython3",
   "version": "3.7.12"
  },
  "papermill": {
   "default_parameters": {},
   "duration": 20.695654,
   "end_time": "2022-07-26T21:32:51.443372",
   "environment_variables": {},
   "exception": null,
   "input_path": "__notebook__.ipynb",
   "output_path": "__notebook__.ipynb",
   "parameters": {},
   "start_time": "2022-07-26T21:32:30.747718",
   "version": "2.3.4"
  }
 },
 "nbformat": 4,
 "nbformat_minor": 5
}
